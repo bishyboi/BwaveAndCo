{
 "cells": [
  {
   "cell_type": "code",
   "execution_count": 381,
   "metadata": {},
   "outputs": [],
   "source": [
    "import numpy as np\n",
    "import cv2 as cv\n",
    "from skimage import filters, morphology, measure, segmentation\n",
    "import matplotlib.pyplot as plt\n",
    "import seaborn as sns\n",
    "from scipy.io import savemat\n",
    "import pandas as pd\n",
    "import scipy as sp\n",
    "import os"
   ]
  },
  {
   "cell_type": "code",
   "execution_count": 382,
   "metadata": {},
   "outputs": [],
   "source": [
    "CYCLIC_COLUMNS = [\"PSVTime\", \"PSV\", \"PDVTime\", \"PDV\", \"EDVTime\", \"EDV\", \"ISVTime\", \"ISV\", \"MBF1\", \"MBF2\", \"SysTime\", \"DiasTime\", \"OSI\", \"WindowTime\"]\n",
    "TIME_SERIES_COLUMNS = [\"Time\",\"BloodFlow\",\"Filtered Blood Flow\", \"Shear\", \"Filtered Shear\", \"Velocity\", \"Diameter\"]\n",
    "ANALYSIS_SETTINGS_COLUMNS = [\"Peak Height Threshold\", \"Cycle Duration\", \"Peak Count\", \"EpochEndTime\", \"Velocity Calibration\", \"Time Calibration\", \"Distance Calibration\", \"Zero Velocity Row Position\"]"
   ]
  },
  {
   "cell_type": "code",
   "execution_count": 383,
   "metadata": {},
   "outputs": [],
   "source": [
    "def subj_file(subj_str: str, trial_type: str, data_type: str, return_video_file = False):\n",
    "    folder = f\"bloodflow_data/{subj_str}\"\n",
    "    filename = None\n",
    "    files = None\n",
    "    \n",
    "    if trial_type in ['baseline', 'base', 'basline']:\n",
    "        files = [file_name for file_name in os.listdir(folder) if 'baseline' in file_name or 'basline' in file_name or 'base' in file_name]\n",
    "\n",
    "    elif trial_type in ['post-oc', 'post-occ', 'post-occlusion', 'post']:\n",
    "        files = [file_name for file_name in os.listdir(folder) if 'post' in file_name]\n",
    "\n",
    "    else:\n",
    "        raise ValueError(f\"{trial_type} is not an acceptable parameter for trial_type\")\n",
    "    \n",
    "    if data_type in ['diameter', 'diam']:\n",
    "        files = [file_name for file_name in files if 'diam' in file_name]\n",
    "        filename = files[0][:-4]\n",
    "    elif data_type in ['time', 'time_series', 'time series', 'cyclic'] :\n",
    "        files = [file_name for file_name in files if 'flow' in file_name or 'doppler' in file_name]\n",
    "        filename = files[0][:str.index(files[0], '_')]\n",
    "        \n",
    "    else:\n",
    "        raise ValueError(f\"{data_type} is not an acceptable parameter for data_type\")\n",
    "    \n",
    "    if return_video_file:\n",
    "        folder = \"raw_video\"\n",
    "    return f\"{folder}/{filename}\", data_type"
   ]
  },
  {
   "cell_type": "code",
   "execution_count": 384,
   "metadata": {},
   "outputs": [],
   "source": [
    "def get_px_to_cm(frame):\n",
    "    print(\"Select ROI that surrounds the reference scale\")\n",
    "    r = cv.selectROI(frame)\n",
    "    cv.destroyAllWindows()\n",
    "    px_to_cm = float(input(\"How many centimeters is this? \"))\n",
    "    px_to_cm /= r[3]\n",
    "    return px_to_cm"
   ]
  },
  {
   "cell_type": "code",
   "execution_count": 385,
   "metadata": {},
   "outputs": [],
   "source": [
    "subj_no = 14"
   ]
  },
  {
   "cell_type": "code",
   "execution_count": 386,
   "metadata": {},
   "outputs": [
    {
     "data": {
      "text/plain": [
       "[('bloodflow_data/ASCI114/ASCI114 - baseline long diam 20210312141740339',\n",
       "  'diam'),\n",
       " ('bloodflow_data/ASCI114/ASCI114 - post-occ long diam 20210312142448015',\n",
       "  'diam')]"
      ]
     },
     "execution_count": 386,
     "metadata": {},
     "output_type": "execute_result"
    }
   ],
   "source": [
    "subj_name = f\"ASCI1{subj_no:02}\"\n",
    "\n",
    "baseline_video = subj_file(subj_name, 'baseline', 'diam', return_video_file=True)\n",
    "baseline = subj_file(subj_name, 'baseline', 'diam')\n",
    "\n",
    "post_video = subj_file(subj_name, 'post', 'diam', return_video_file=True)\n",
    "post = subj_file(subj_name, 'post', 'diam')\n",
    "subj = [baseline, post]\n",
    "subj"
   ]
  },
  {
   "cell_type": "code",
   "execution_count": 387,
   "metadata": {},
   "outputs": [],
   "source": [
    "def get_frame(video):\n",
    "    capture = cv.VideoCapture(f\"{video[0]}.avi\")\n",
    "\n",
    "    ret, frame = capture.read()\n",
    "\n",
    "    if not ret:\n",
    "        exit(f\"File: \\\"{video[0]}.avi\\\" not found.\")\n",
    "        \n",
    "    return frame"
   ]
  },
  {
   "cell_type": "code",
   "execution_count": 388,
   "metadata": {},
   "outputs": [],
   "source": [
    "def save(subj, px_to_cm):\n",
    "    print(subj[0])\n",
    "    data = np.load(f\"{subj[0]}.npy\")\n",
    "    diameter = data['diameters']\n",
    "    roi = data['roi']\n",
    "    data.close()\n",
    "        \n",
    "    with open(f\"{subj[0]}.npy\", 'wb') as f:\n",
    "        np.savez(f, diameters = diameter, roi = roi, px_to_cm = px_to_cm)\n"
   ]
  },
  {
   "cell_type": "code",
   "execution_count": 389,
   "metadata": {},
   "outputs": [],
   "source": [
    "def preview(subj):\n",
    "    data = np.load(f\"{subj[0]}.npy\")\n",
    "    diameter = data['diameters']\n",
    "    roi = data['roi']\n",
    "    px_to_cm = data['px_to_cm']\n",
    "    data.close()\n",
    "    \n",
    "    print(f\"{np.nanmean(diameter) * px_to_cm:0.3f} cm\")"
   ]
  },
  {
   "cell_type": "code",
   "execution_count": 390,
   "metadata": {},
   "outputs": [
    {
     "name": "stdout",
     "output_type": "stream",
     "text": [
      "Select ROI that surrounds the reference scale\n",
      "Pixel to cm: 0.008305647840531562\n",
      "\n",
      "Select ROI that surrounds the reference scale\n",
      "Pixel to cm: 0.008305647840531562\n",
      "\n",
      "Select ROI that surrounds the reference scale\n",
      "Pixel to cm: 0.008305647840531562\n",
      "\n",
      "bloodflow_data/ASCI114/ASCI114 - baseline long diam 20210312141740339\n",
      "0.297 cm\n",
      "Select ROI that surrounds the reference scale\n",
      "Pixel to cm: 0.008305647840531562\n",
      "\n",
      "Select ROI that surrounds the reference scale\n",
      "Pixel to cm: 0.008305647840531562\n",
      "\n",
      "Select ROI that surrounds the reference scale\n",
      "Pixel to cm: 0.008305647840531562\n",
      "\n",
      "bloodflow_data/ASCI114/ASCI114 - post-occ long diam 20210312142448015\n",
      "0.310 cm\n"
     ]
    }
   ],
   "source": [
    "repeats = 3\n",
    "\n",
    "frames = [get_frame(baseline_video), get_frame(post_video)]\n",
    "\n",
    "for n in range(2):\n",
    "    px_to_cm = np.empty(repeats)\n",
    "\n",
    "    for i in range(repeats):\n",
    "        px_to_cm[i] = get_px_to_cm(frames[n])\n",
    "        print(f\"Pixel to cm: {px_to_cm[i]}\\n\")\n",
    "\n",
    "    save(subj[n], px_to_cm.mean())\n",
    "    preview(subj[n])"
   ]
  }
 ],
 "metadata": {
  "kernelspec": {
   "display_name": "Python 3",
   "language": "python",
   "name": "python3"
  },
  "language_info": {
   "codemirror_mode": {
    "name": "ipython",
    "version": 3
   },
   "file_extension": ".py",
   "mimetype": "text/x-python",
   "name": "python",
   "nbconvert_exporter": "python",
   "pygments_lexer": "ipython3",
   "version": "3.12.4"
  }
 },
 "nbformat": 4,
 "nbformat_minor": 2
}
