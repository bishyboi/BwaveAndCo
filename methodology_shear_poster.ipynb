{
 "cells": [
  {
   "cell_type": "code",
   "execution_count": null,
   "metadata": {},
   "outputs": [],
   "source": [
    "import pandas as pd\n",
    "import seaborn as sns\n",
    "import matplotlib.pyplot as plt\n",
    "import numpy as np\n",
    "import scipy as sp\n",
    "import os\n",
    "import cv2 as cv\n",
    "sns.set_theme(context='poster', font_scale=4)\n",
    "plt.rcParams['figure.figsize'] = [80,20]\n",
    "plt.rcParams['lines.linewidth'] = 7"
   ]
  },
  {
   "cell_type": "code",
   "execution_count": null,
   "metadata": {},
   "outputs": [],
   "source": [
    "CYCLIC_COLUMNS = [\"PSVTime\", \"PSV\", \"PDVTime\", \"PDV\", \"EDVTime\", \"EDV\", \"ISVTime\", \"ISV\", \"MBF1\", \"MBF2\", \"SysTime\", \"DiasTime\", \"OSI\", \"WindowTime\"]\n",
    "TIME_SERIES_COLUMNS = [\"Time\",\"BloodFlow\",\"Filtered Blood Flow\", \"Shear\", \"Filtered Shear\", \"Velocity\", \"Diameter\"]\n",
    "ANALYSIS_SETTINGS_COLUMNS = [\"Peak Height Threshold\", \"Cycle Duration\", \"Peak Count\", \"EpochEndTime\", \"Velocity Calibration\", \"Time Calibration\", \"Distance Calibration\", \"Zero Velocity Row Position\"]"
   ]
  },
  {
   "cell_type": "code",
   "execution_count": null,
   "metadata": {},
   "outputs": [],
   "source": [
    "def subj_file(subj_str: str, trial_type: str, data_type: str):\n",
    "    folder = f\"bloodflow_data/{subj_str}\"\n",
    "    filename = None\n",
    "    files = None\n",
    "    \n",
    "    if trial_type in ['baseline', 'base', 'basline']:\n",
    "        files = [file_name for file_name in os.listdir(folder) if 'baseline' in file_name or 'basline' in file_name or 'base' in file_name]\n",
    "\n",
    "    elif trial_type in ['post-oc', 'post-occ', 'post-occlusion', 'post']:\n",
    "        files = [file_name for file_name in os.listdir(folder) if 'post' in file_name]\n",
    "\n",
    "    else:\n",
    "        raise ValueError(f\"{trial_type} is not an acceptable parameter for trial_type\")\n",
    "    \n",
    "    if data_type in ['diameter', 'diam']:\n",
    "        files = [file_name for file_name in files if 'diam' in file_name]\n",
    "        filename = files[0][:-4]\n",
    "    elif data_type in ['time', 'time_series', 'time series', 'cyclic'] :\n",
    "        files = [file_name for file_name in files if 'flow' in file_name or 'doppler' in file_name]\n",
    "        filename = files[0][:str.index(files[0], '_')]\n",
    "        \n",
    "    else:\n",
    "        raise ValueError(f\"{data_type} is not an acceptable parameter for data_type\")\n",
    "    \n",
    "    return f\"{folder}/{filename}\", data_type"
   ]
  },
  {
   "cell_type": "code",
   "execution_count": null,
   "metadata": {},
   "outputs": [],
   "source": [
    "def load(subj_file):\n",
    "    data = pd.DataFrame()\n",
    "    if subj_file[1] in ['diameter', 'diam']:\n",
    "        data['diameter'] = np.load(f\"{subj_file[0]}.npy\")['diameters']\n",
    "        \n",
    "    elif subj_file[1] == 'cyclic':\n",
    "        data = pd.read_csv(f\"{subj_file[0]}_cyclic.csv\", header = None)\n",
    "        data.columns = CYCLIC_COLUMNS\n",
    "        \n",
    "    elif subj_file[1] in ['time', 'time_series', 'time series']:\n",
    "        data = pd.read_csv(f\"{subj_file[0]}_time_series.csv\", header = None)\n",
    "        data.columns = TIME_SERIES_COLUMNS\n",
    "    \n",
    "    return data"
   ]
  },
  {
   "cell_type": "code",
   "execution_count": null,
   "metadata": {},
   "outputs": [],
   "source": [
    "def shear_subject(subj_name: str, baseline: bool, plot = False):\n",
    "    time_series = None\n",
    "\n",
    "    if baseline:\n",
    "        time_series = load(subj_file(subj_name, 'baseline', 'time'))\n",
    "    else:\n",
    "        time_series = load(subj_file(subj_name, 'post', 'time'))\n",
    "\n",
    "\n",
    "    threshold = np.nanmean(time_series['Filtered Shear'])\n",
    "\n",
    "    peak_indices = sp.signal.find_peaks(time_series['Filtered Shear'], prominence = 100, width = 5, height = threshold)[0]\n",
    "    peak_values = time_series['Filtered Shear'].iloc[peak_indices]\n",
    "    \n",
    "    max_peak = peak_values.max()\n",
    "    valid_peaks = peak_values > max_peak * 0.75\n",
    "    peaks = peak_indices[valid_peaks]\n",
    "    \n",
    "    peak_choices = None\n",
    "    if not baseline:\n",
    "        moving_peaks = pd.Series(time_series['Filtered Shear'].iloc[peaks]).rolling(window = 5, center = True).mean()\n",
    "        peak_choices = peaks.copy()\n",
    "        \n",
    "        peak_max_index = moving_peaks.argmax()\n",
    "        \n",
    "        lower = max(0, peak_max_index-2)\n",
    "        upper = min(len(peaks), peak_max_index+3)\n",
    "        peaks = peaks[lower:upper]\n",
    "\n",
    "\n",
    "    if plot:\n",
    "        sns.lineplot(time_series['Filtered Shear'])\n",
    "        \n",
    "        if not baseline:\n",
    "            sns.scatterplot(x=peak_choices, y = time_series['Filtered Shear'].iloc[peak_choices], color = 'orange', s = 2000)\n",
    "        \n",
    "        sns.scatterplot(x=peaks, y=time_series['Filtered Shear'].iloc[peaks], color=\"fuchsia\", s = 3000)\n",
    "        \n",
    "        tag = \"Baseline\" if baseline else \"Post-Occlusion\"\n",
    "        plt.title(f\"{subj_name} {tag} Filtered Shear Rate\")\n",
    "        plt.ylabel(\"Shear Rate\")\n",
    "        plt.xlabel(\"Frame #\")\n",
    "        plt.show()\n",
    "\n",
    "    return time_series['Filtered Shear'].iloc[peaks].mean()"
   ]
  },
  {
   "cell_type": "code",
   "execution_count": null,
   "metadata": {},
   "outputs": [],
   "source": [
    "subj_numbers = list(range(5,25))\n",
    "exclude = [19]"
   ]
  },
  {
   "cell_type": "code",
   "execution_count": null,
   "metadata": {},
   "outputs": [],
   "source": [
    "baseline_shear = np.empty(len(subj_numbers))\n",
    "post_shear     = np.empty(len(subj_numbers))\n",
    "\n",
    "for i, subj_num in enumerate(subj_numbers):\n",
    "    \n",
    "    subj_name = f\"ASCI{subj_num:03}\"\n",
    "    \n",
    "    if subj_num in exclude:\n",
    "        baseline_shear[i] = 0\n",
    "        post_shear[i] = 0\n",
    "        continue\n",
    "    \n",
    "    baseline_shear[i] = shear_subject(subj_name, baseline=True, plot = True)\n",
    "    post_shear[i]     = shear_subject(subj_name, baseline=False, plot = True)\n",
    "    \n",
    "baseline_sci = baseline_shear.copy()\n",
    "post_sci = post_shear.copy()"
   ]
  },
  {
   "cell_type": "code",
   "execution_count": null,
   "metadata": {},
   "outputs": [],
   "source": [
    "shears = np.column_stack([baseline_shear, post_shear])\n",
    "\n",
    "for shear_pair, subj_num in zip(shears, subj_numbers):\n",
    "    sns.lineplot(x = [0,1], y = shear_pair, marker = 'o', label = subj_num)\n",
    "\n",
    "plt.title(\"shear rates in sci population\")\n",
    "plt.ylabel(\"shear rate\")\n",
    "plt.xticks([0,1],[\"baseline\", \"post-occlusion\"])\n",
    "plt.show()"
   ]
  },
  {
   "cell_type": "code",
   "execution_count": null,
   "metadata": {},
   "outputs": [],
   "source": [
    "subj_numbers = list(range(1,15))"
   ]
  },
  {
   "cell_type": "code",
   "execution_count": null,
   "metadata": {},
   "outputs": [],
   "source": [
    "baseline_shear = np.empty(len(subj_numbers))\n",
    "post_shear     = np.empty(len(subj_numbers))\n",
    "\n",
    "for i, subj_num in enumerate(subj_numbers):\n",
    "    \n",
    "    subj_name = f\"ASCI1{subj_num:02}\"\n",
    "    \n",
    "    baseline_shear[i] = shear_subject(subj_name, baseline=True, plot = False)\n",
    "    post_shear[i]     = shear_subject(subj_name, baseline=False, plot = False)\n",
    "    \n",
    "baseline_control = baseline_shear.copy()\n",
    "post_control = post_shear.copy()"
   ]
  },
  {
   "cell_type": "code",
   "execution_count": null,
   "metadata": {},
   "outputs": [],
   "source": [
    "shears = np.column_stack([baseline_shear, post_shear])\n",
    "\n",
    "for shear_pair, subj_num in zip(shears, subj_numbers):\n",
    "    sns.lineplot(x = [0,1], y = shear_pair, marker = 'o', label = subj_num)\n",
    "\n",
    "plt.title(\"shear rates in control population\")\n",
    "plt.ylabel(\"shear rate\")\n",
    "plt.xticks([0,1],[\"baseline\", \"post-occlusion\"])\n",
    "plt.show()"
   ]
  },
  {
   "cell_type": "code",
   "execution_count": null,
   "metadata": {},
   "outputs": [],
   "source": [
    "subj_shears = pd.DataFrame()\n",
    "\n",
    "sci_nums = list(range(5,25))\n",
    "control_nums = list(range(1,15))\n",
    "\n",
    "name = lambda num, sci: f\"ASCI{num:03}\" if sci else f\"ASCI1{num:02}\"\n",
    "\n",
    "sci_names = [name(num, True) for num in sci_nums]\n",
    "control_names = [name(num, False) for num in control_nums]\n",
    "names = sci_names + control_names\n",
    "subj_shears['subject'] = names\n",
    "\n",
    "subj_shears['baseline shear'] = np.concatenate([baseline_sci, baseline_control])\n",
    "subj_shears['post-occlusion shear'] = np.concatenate([post_sci, post_control])\n",
    "subj_shears['flat increase'] = subj_shears['post-occlusion shear'] - subj_shears['baseline shear']\n",
    "subj_shears['percent increase'] = (subj_shears['post-occlusion shear'] - subj_shears['baseline shear']) / subj_shears['baseline shear']\n",
    "subj_shears['class'] = ['sci'] * len(sci_nums) + ['control']*len(control_nums)"
   ]
  },
  {
   "cell_type": "code",
   "execution_count": null,
   "metadata": {},
   "outputs": [],
   "source": [
    "subj_shears.to_csv(\"shear_data.csv\")"
   ]
  },
  {
   "cell_type": "code",
   "execution_count": null,
   "metadata": {},
   "outputs": [],
   "source": [
    "subj_shears = subj_shears[subj_shears['subject'] != \"ASCI019\"]\n",
    "\n",
    "fig, ax = plt.subplots(2,1, sharey=True, sharex = True, figsize = (16,9))\n",
    "sns.stripplot(data = subj_shears, hue = \"class\", x = \"percent increase\", y = \"class\", ax = ax[0], alpha = 0.7)\n",
    "sns.boxplot(data = subj_shears, hue = \"class\", x = \"percent increase\", y = \"class\", ax = ax[1], fill = None)\n",
    "plt.suptitle(\"Shear Percent Increases in SCI vs. Control Population\")\n",
    "plt.tight_layout()\n",
    "plt.show()"
   ]
  },
  {
   "cell_type": "code",
   "execution_count": null,
   "metadata": {},
   "outputs": [],
   "source": [
    "subj_shears = subj_shears[subj_shears['subject'] != \"ASCI019\"]\n",
    "\n",
    "sns.set_context(\"poster\")\n",
    "sns.stripplot(data = subj_shears, hue = \"class\", x = \"percent increase\", y = \"class\", alpha = 0.7, color = 'black')\n",
    "sns.boxplot(data = subj_shears, hue = \"class\", x = \"percent increase\", y = \"class\", fill = None)\n",
    "plt.suptitle(\"Shear Percent Increases in SCI vs. Control Population\")\n",
    "plt.tight_layout()\n",
    "plt.show()"
   ]
  },
  {
   "cell_type": "code",
   "execution_count": null,
   "metadata": {},
   "outputs": [],
   "source": [
    "sci = subj_shears[subj_shears['class'] == 'sci']['percent increase']\n",
    "control = subj_shears[subj_shears['class'] == 'control']['percent increase']\n",
    "sp.stats.ttest_ind(sci, control)"
   ]
  }
 ],
 "metadata": {
  "kernelspec": {
   "display_name": "Python 3",
   "language": "python",
   "name": "python3"
  },
  "language_info": {
   "codemirror_mode": {
    "name": "ipython",
    "version": 3
   },
   "file_extension": ".py",
   "mimetype": "text/x-python",
   "name": "python",
   "nbconvert_exporter": "python",
   "pygments_lexer": "ipython3",
   "version": "3.12.4"
  }
 },
 "nbformat": 4,
 "nbformat_minor": 2
}
