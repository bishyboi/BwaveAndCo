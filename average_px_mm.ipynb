{
 "cells": [
  {
   "cell_type": "code",
   "execution_count": 9,
   "metadata": {},
   "outputs": [],
   "source": [
    "import seaborn as sns\n",
    "import numpy as np\n",
    "import scipy as sp\n",
    "import pandas as pd\n",
    "import matplotlib.pyplot as plt\n",
    "import os\n",
    "sns.set_theme()"
   ]
  },
  {
   "cell_type": "code",
   "execution_count": 10,
   "metadata": {},
   "outputs": [],
   "source": [
    "def subj_file(subj_str: str, trial_type: str, data_type: str):\n",
    "    folder = f\"bloodflow_data/{subj_str}\"\n",
    "    filename = None\n",
    "    files = None\n",
    "    \n",
    "    if trial_type in ['baseline', 'base', 'basline']:\n",
    "        files = [file_name for file_name in os.listdir(folder) if 'baseline' in file_name or 'basline' in file_name or 'base' in file_name]\n",
    "\n",
    "    elif trial_type in ['post-oc', 'post-occ', 'post-occlusion', 'post']:\n",
    "        files = [file_name for file_name in os.listdir(folder) if 'post' in file_name]\n",
    "\n",
    "    else:\n",
    "        raise ValueError(f\"{trial_type} is not an acceptable parameter for trial_type\")\n",
    "    \n",
    "    if data_type in ['diameter', 'diam']:\n",
    "        files = [file_name for file_name in files if 'diam' in file_name]\n",
    "        filename = files[0][:-4]\n",
    "    elif data_type in ['time', 'time_series', 'time series', 'cyclic'] :\n",
    "        files = [file_name for file_name in files if 'flow' in file_name or 'doppler' in file_name]\n",
    "        filename = files[0][:str.index(files[0], '_')]\n",
    "        \n",
    "    else:\n",
    "        raise ValueError(f\"{data_type} is not an acceptable parameter for data_type\")\n",
    "    \n",
    "    return f\"{folder}/{filename}\""
   ]
  },
  {
   "cell_type": "code",
   "execution_count": 11,
   "metadata": {},
   "outputs": [],
   "source": [
    "def get_raw_data(filename: str):\n",
    "    raw_data = np.load(f\"{filename}.npy\")\n",
    "    return raw_data[\"px_to_cm\"]"
   ]
  },
  {
   "cell_type": "code",
   "execution_count": 12,
   "metadata": {},
   "outputs": [],
   "source": [
    "files = []\n",
    "subj_nums = list(range(5,25))\n",
    "subj_name = lambda num: f\"ASCI{num:03}\"\n",
    "\n",
    "exclude = []\n",
    "for subj_num in subj_nums:\n",
    "    if subj_num not in exclude:\n",
    "        files.append(subj_file(subj_name(subj_num), 'baseline', 'diam'))\n",
    "        files.append(subj_file(subj_name(subj_num), 'post', 'diam'))\n",
    "        \n",
    "subj_nums = list(range(1,15))\n",
    "subj_name = lambda num: f\"ASCI1{num:02}\"\n",
    "\n",
    "exclude = []\n",
    "for subj_num in subj_nums:\n",
    "    if subj_num not in exclude:\n",
    "        files.append(subj_file(subj_name(subj_num), 'baseline', 'diam'))\n",
    "        files.append(subj_file(subj_name(subj_num), 'post', 'diam'))\n",
    "        \n",
    "files = np.array(files)\n",
    "files = np.unique(files)"
   ]
  },
  {
   "cell_type": "code",
   "execution_count": 13,
   "metadata": {},
   "outputs": [],
   "source": [
    "px_to_cm = []\n",
    "for filename in files:\n",
    "    px_to_cm.append(get_raw_data(filename))"
   ]
  },
  {
   "cell_type": "code",
   "execution_count": 15,
   "metadata": {},
   "outputs": [
    {
     "data": {
      "text/plain": [
       "0.08000525984136109"
      ]
     },
     "execution_count": 15,
     "metadata": {},
     "output_type": "execute_result"
    }
   ],
   "source": [
    "np.mean(px_to_cm) * 10"
   ]
  },
  {
   "cell_type": "code",
   "execution_count": 16,
   "metadata": {},
   "outputs": [
    {
     "data": {
      "text/plain": [
       "0.35442330109722964"
      ]
     },
     "execution_count": 16,
     "metadata": {},
     "output_type": "execute_result"
    }
   ],
   "source": [
    "4.43 * np.mean(px_to_cm) * 10"
   ]
  }
 ],
 "metadata": {
  "kernelspec": {
   "display_name": "Python 3",
   "language": "python",
   "name": "python3"
  },
  "language_info": {
   "codemirror_mode": {
    "name": "ipython",
    "version": 3
   },
   "file_extension": ".py",
   "mimetype": "text/x-python",
   "name": "python",
   "nbconvert_exporter": "python",
   "pygments_lexer": "ipython3",
   "version": "3.12.4"
  }
 },
 "nbformat": 4,
 "nbformat_minor": 2
}
