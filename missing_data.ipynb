{
 "cells": [
  {
   "cell_type": "code",
   "execution_count": 8,
   "metadata": {},
   "outputs": [],
   "source": [
    "import pandas as pd\n",
    "import seaborn as sns\n",
    "import matplotlib.pyplot as plt\n",
    "import numpy as np\n",
    "import scipy as sp\n",
    "import os\n",
    "sns.set_theme()\n",
    "plt.rcParams['figure.figsize'] = [14,8]"
   ]
  },
  {
   "cell_type": "code",
   "execution_count": 9,
   "metadata": {},
   "outputs": [],
   "source": [
    "CYCLIC_COLUMNS = [\"PSVTime\", \"PSV\", \"PDVTime\", \"PDV\", \"EDVTime\", \"EDV\", \"ISVTime\", \"ISV\", \"MBF1\", \"MBF2\", \"SysTime\", \"DiasTime\", \"OSI\", \"WindowTime\"]\n",
    "TIME_SERIES_COLUMNS = [\"Time\",\"BloodFlow\",\"Filtered Blood Flow\", \"Shear\", \"Filtered Shear\", \"Velocity\", \"Diameter\"]\n",
    "ANALYSIS_SETTINGS_COLUMNS = [\"Peak Height Threshold\", \"Cycle Duration\", \"Peak Count\", \"EpochEndTime\", \"Velocity Calibration\", \"Time Calibration\", \"Distance Calibration\", \"Zero Velocity Row Position\"]"
   ]
  },
  {
   "cell_type": "code",
   "execution_count": 10,
   "metadata": {},
   "outputs": [],
   "source": [
    "def subj_file(subj_name: str, trial_type: str, data_type: str):\n",
    "    folder = f\"bloodflow_data/{subj_name}\"\n",
    "    filename = None\n",
    "    files = None\n",
    "    \n",
    "    if trial_type in ['baseline', 'base', 'basline']:\n",
    "        files = [file_name for file_name in os.listdir(folder) if 'baseline' in file_name or 'basline' in file_name or 'base' in file_name]\n",
    "\n",
    "    elif trial_type in ['post-oc', 'post-occ', 'post-occlusion', 'post']:\n",
    "        files = [file_name for file_name in os.listdir(folder) if 'post' in file_name]\n",
    "\n",
    "    else:\n",
    "        raise ValueError(f\"{trial_type} is not an acceptable parameter for trial_type\")\n",
    "    \n",
    "    if data_type in ['diameter', 'diam']:\n",
    "        files = [file_name for file_name in files if 'diam' in file_name]\n",
    "        filename = files[0][:-4]\n",
    "    elif data_type in ['time', 'time_series', 'time series', 'cyclic'] :\n",
    "        files = [file_name for file_name in files if 'flow' in file_name or 'doppler' in file_name]\n",
    "        filename = files[0][:str.index(files[0], '_')]\n",
    "        \n",
    "    else:\n",
    "        raise ValueError(f\"{data_type} is not an acceptable parameter for data_type\")\n",
    "    \n",
    "    return f\"{folder}/{filename}\", data_type"
   ]
  },
  {
   "cell_type": "code",
   "execution_count": 11,
   "metadata": {},
   "outputs": [],
   "source": [
    "def load(subj_file):\n",
    "    data = pd.DataFrame()\n",
    "    if subj_file[1] in ['diameter', 'diam']:\n",
    "        data['diameter'] = np.load(f\"{subj_file[0]}.npy\")['diameters']\n",
    "        # data['diameter'] *= np.load(f\"{file[0]}.npy\")['px_to_cm']\n",
    "        \n",
    "    elif subj_file[1] == 'cyclic':\n",
    "        data = pd.read_csv(f\"{subj_file[0]}_cyclic.csv\", header = None)\n",
    "        data.columns = CYCLIC_COLUMNS\n",
    "        \n",
    "    elif subj_file[1] in ['time', 'time_series', 'time series']:\n",
    "        data = pd.read_csv(f\"{subj_file[0]}_time_series.csv\", header = None)\n",
    "        data.columns = TIME_SERIES_COLUMNS\n",
    "    \n",
    "    return data"
   ]
  },
  {
   "cell_type": "code",
   "execution_count": 12,
   "metadata": {},
   "outputs": [],
   "source": [
    "sci_subj_id = list(range(4,24))\n",
    "control_subj_id = list(range(1,15))"
   ]
  },
  {
   "cell_type": "code",
   "execution_count": 13,
   "metadata": {},
   "outputs": [
    {
     "name": "stdout",
     "output_type": "stream",
     "text": [
      "ASCI019: Missing Post Time Series\n"
     ]
    }
   ],
   "source": [
    "for subj_id in sci_subj_id:\n",
    "    subj_name = f\"ASCI{subj_id:03}\"\n",
    "    \n",
    "    try:\n",
    "        load(subj_file(subj_name, 'baseline', 'diam'))\n",
    "    except:\n",
    "        print(f\"{subj_name}: Missing Baseline Diameter\")\n",
    "        \n",
    "    try:\n",
    "        load(subj_file(subj_name, 'post', 'diam'))\n",
    "    except:\n",
    "        print(f\"{subj_name}: Missing Post Diameter\")\n",
    "    \n",
    "    try:\n",
    "        load(subj_file(subj_name, 'baseline', 'time'))\n",
    "    except:\n",
    "        print(f\"{subj_name}: Missing Baseline Time Series\")\n",
    "    \n",
    "    try:\n",
    "        load(subj_file(subj_name, 'post', 'time'))\n",
    "    except:\n",
    "        print(f\"{subj_name}: Missing Post Time Series\")\n",
    "    "
   ]
  },
  {
   "cell_type": "code",
   "execution_count": 14,
   "metadata": {},
   "outputs": [],
   "source": [
    "for subj_id in control_subj_id:\n",
    "    subj_name = f\"ASCI1{subj_id:02}\"\n",
    "    \n",
    "    try:\n",
    "        load(subj_file(subj_name, 'baseline', 'diam'))\n",
    "    except:\n",
    "        print(f\"{subj_name}: Missing Baseline Diameter\")\n",
    "        \n",
    "    try:\n",
    "        load(subj_file(subj_name, 'post', 'diam'))\n",
    "    except:\n",
    "        print(f\"{subj_name}: Missing Post Diameter\")\n",
    "    \n",
    "    try:\n",
    "        load(subj_file(subj_name, 'baseline', 'time'))\n",
    "    except:\n",
    "        print(f\"{subj_name}: Missing Baseline Time Series\")\n",
    "    \n",
    "    try:\n",
    "        load(subj_file(subj_name, 'post', 'time'))\n",
    "    except:\n",
    "        print(f\"{subj_name}: Missing Post Time Series\")\n",
    "    "
   ]
  }
 ],
 "metadata": {
  "kernelspec": {
   "display_name": "Python 3",
   "language": "python",
   "name": "python3"
  },
  "language_info": {
   "codemirror_mode": {
    "name": "ipython",
    "version": 3
   },
   "file_extension": ".py",
   "mimetype": "text/x-python",
   "name": "python",
   "nbconvert_exporter": "python",
   "pygments_lexer": "ipython3",
   "version": "3.12.4"
  }
 },
 "nbformat": 4,
 "nbformat_minor": 2
}
